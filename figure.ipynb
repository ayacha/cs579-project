{
 "metadata": {
  "name": "",
  "signature": "sha256:a38241705e717ed7d5b6eba4e8bdc29bb6ac6ad117c31c54c9392a2c148dcc45"
 },
 "nbformat": 3,
 "nbformat_minor": 0,
 "worksheets": [
  {
   "cells": [
    {
     "cell_type": "code",
     "collapsed": false,
     "input": [
      "accuracies=[[0.63067816134633647, 0.70440376143408079, 0.73103386464754327, 0.73983649679397057, 0.74782466934360259, 0.74773209389699102], [0.63154823346548372, 0.70645863520342611, 0.73027485950387638, 0.736985594127892, 0.74310399710886688, 0.74433507148935496], [0.63210360346938033, 0.70712508888930647, 0.72923816100500982, 0.73485667884962003, 0.73899423586227575, 0.73833706370988172], [0.63268674182354168, 0.70764343342664926, 0.72765536289806398, 0.73237603170582466, 0.7349307829008408, 0.7339588777904209], [0.63318657255667776, 0.70774525056816251, 0.7256837864688187, 0.72988610902574924, 0.73176515884277704, 0.73212614482598659]]"
     ],
     "language": "python",
     "metadata": {},
     "outputs": [],
     "prompt_number": 1
    },
    {
     "cell_type": "code",
     "collapsed": false,
     "input": [
      "import matplotlib.pyplot as plt\n",
      "min_df=[2,4,6,8,10]\n",
      "C_var=[0.01,0.1,0.5,1.0,5.0,10.0]\n",
      "def figure(i,name):\n",
      "    plt.figure()\n",
      "    plt.title('Accuracy of Logistic Regression')\n",
      "    plt.plot(C_var,i, 'bo-')\n",
      "    plt.xlabel('C')\n",
      "    plt.ylabel('avg accuracy')\n",
      "    plt.show()"
     ],
     "language": "python",
     "metadata": {},
     "outputs": [],
     "prompt_number": 4
    },
    {
     "cell_type": "code",
     "collapsed": false,
     "input": [
      "for a,b in zip(accuracies,min_df):\n",
      "    figure(a,'Logistic_accuracy_mindf'+str(b)+'.png')"
     ],
     "language": "python",
     "metadata": {},
     "outputs": []
    },
    {
     "cell_type": "code",
     "collapsed": false,
     "input": [],
     "language": "python",
     "metadata": {},
     "outputs": []
    }
   ],
   "metadata": {}
  }
 ]
}