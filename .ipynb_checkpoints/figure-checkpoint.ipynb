{
 "metadata": {
  "name": "",
  "signature": "sha256:dece3ae1f32c60c8a2f5d03e190b6e045d06804ba3eabb5b914f1e744910c331"
 },
 "nbformat": 3,
 "nbformat_minor": 0,
 "worksheets": []
}